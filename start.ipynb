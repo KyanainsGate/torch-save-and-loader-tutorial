{
 "cells": [
  {
   "cell_type": "markdown",
   "metadata": {},
   "source": [
    "# Tutorial\n",
    "Before start tutorial, run `pip install -r requirements.txt` to install all dependencies.\n",
    "\n",
    "## Import necessary lib\n",
    "Only class `TrainingIter` have to be imported, which include argparse and model definitions"
   ]
  },
  {
   "cell_type": "code",
   "execution_count": 1,
   "metadata": {},
   "outputs": [
    {
     "name": "stdout",
     "output_type": "stream",
     "text": [
      "=> Created Directory :./log/20210327/131301\n"
     ]
    }
   ],
   "source": [
    "from iter_classification import TrainingIter\n",
    "t_iter = TrainingIter()"
   ]
  },
  {
   "cell_type": "markdown",
   "metadata": {},
   "source": [
    "## Training from scratch\n",
    "\n",
    "- Training from scratch is followings.\n",
    "- If you want to change configurations as you like, check `iter_classification.py` and see the function `parser()`.  "
   ]
  },
  {
   "cell_type": "code",
   "execution_count": 2,
   "metadata": {},
   "outputs": [
    {
     "name": "stdout",
     "output_type": "stream",
     "text": [
      "Use device :  cuda\n",
      "-------------\n",
      "Epoch 0/5\n",
      "-------------\n",
      "As the first step, Optimization will NOT be done\n",
      "Train : Loss: 138656.74 Acc: 9.44\n",
      "Valid : Loss: 23083.97 Acc: 8.61\n",
      "-------------\n",
      "Epoch 1/5\n",
      "-------------\n",
      "Start optimization ...\n",
      "Train : Loss: 66026.80 Acc: 68.70\n",
      "Valid : Loss: 3721.17 Acc: 90.04\n",
      "-------------\n",
      "Epoch 2/5\n",
      "-------------\n",
      "Train : Loss: 25990.39 Acc: 87.53\n",
      "Valid : Loss: 2497.86 Acc: 92.92\n",
      "-------------\n",
      "Epoch 3/5\n",
      "-------------\n",
      "Train : Loss: 19583.22 Acc: 90.61\n",
      "Valid : Loss: 1946.99 Acc: 94.40\n",
      "-------------\n",
      "Epoch 4/5\n",
      "-------------\n",
      "Train : Loss: 16102.28 Acc: 92.31\n",
      "Valid : Loss: 1577.09 Acc: 95.46\n",
      "-------------\n",
      "Epoch 5/5\n",
      "-------------\n",
      "Train : Loss: 13362.08 Acc: 93.62\n",
      "Valid : Loss: 1292.80 Acc: 96.11\n"
     ]
    }
   ],
   "source": [
    "t_iter.run() # training from scratch"
   ]
  },
  {
   "cell_type": "markdown",
   "metadata": {},
   "source": [
    "## Tensorboard\n",
    "- Tensorboard shows the learning curve, so lauch terminal and enter following command. \n",
    "```bash\n",
    "$cd ./log/ # Default log directory\n",
    "$tensorboard --logdir=./ --port 5900\n",
    "```\n",
    "- And enter [here](http://localhost:5900/) to browse"
   ]
  },
  {
   "cell_type": "markdown",
   "metadata": {},
   "source": [
    "## Restart training\n",
    "- After the training from scratch, you can restart training\n",
    "- First, set checkpoint to restart training by `TrainingIter.get_load_weight()`\n",
    "- Following is an exammple when your model is stored in `./log/20210327/111131/checkpoint_0003_.pth`"
   ]
  },
  {
   "cell_type": "code",
   "execution_count": 5,
   "metadata": {},
   "outputs": [
    {
     "name": "stdout",
     "output_type": "stream",
     "text": [
      "Can be load model ./log/20210327/111131/checkpoint_0003_.pth\n"
     ]
    }
   ],
   "source": [
    "import os\n",
    "_logdir = t_iter.get_load_weight(yd=\"20210327\", hms=\"111131\", epoch=3)\n",
    "if os.path.exists(_logdir):\n",
    "    print('Can be load model', _logdir)\n",
    "else:\n",
    "    print(\"Weight not Found\")"
   ]
  },
  {
   "cell_type": "markdown",
   "metadata": {},
   "source": [
    "And restart training"
   ]
  },
  {
   "cell_type": "code",
   "execution_count": 6,
   "metadata": {},
   "outputs": [
    {
     "name": "stdout",
     "output_type": "stream",
     "text": [
      "=> loaded checkpoint './log/20210327/111131/checkpoint_0003_.pth' (epoch 3)\n",
      "Use device :  cuda\n",
      "Restart Option\n",
      "Skip until 3 (now:0)\n",
      "Skip until 3 (now:1)\n",
      "Skip until 3 (now:2)\n",
      "-------------\n",
      "Epoch 3/5\n",
      "-------------\n",
      "As the first step, Optimization will NOT be done\n",
      "Train : Loss: 17397.38 Acc: 91.59\n",
      "Valid : Loss: 1946.99 Acc: 94.40\n",
      "-------------\n",
      "Epoch 4/5\n",
      "-------------\n",
      "Start optimization ...\n",
      "Train : Loss: 15977.10 Acc: 92.43\n",
      "Valid : Loss: 1572.76 Acc: 95.43\n",
      "-------------\n",
      "Epoch 5/5\n",
      "-------------\n",
      "Train : Loss: 13468.42 Acc: 93.62\n",
      "Valid : Loss: 1300.38 Acc: 96.13\n"
     ]
    }
   ],
   "source": [
    "t_iter.restart(_logdir)"
   ]
  }
 ],
 "metadata": {
  "kernelspec": {
   "display_name": "torch130",
   "language": "python",
   "name": "torch130"
  },
  "language_info": {
   "codemirror_mode": {
    "name": "ipython",
    "version": 3
   },
   "file_extension": ".py",
   "mimetype": "text/x-python",
   "name": "python",
   "nbconvert_exporter": "python",
   "pygments_lexer": "ipython3",
   "version": "3.6.13"
  }
 },
 "nbformat": 4,
 "nbformat_minor": 4
}
