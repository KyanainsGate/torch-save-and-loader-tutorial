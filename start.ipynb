{
 "cells": [
  {
   "cell_type": "markdown",
   "metadata": {},
   "source": [
    "# Tutorial\n",
    "Before start tutorial, run `pip install -r requirements.txt` to install all dependencies.\n",
    "\n",
    "## Import necessary lib\n",
    "Only class `TrainingIter` have to be imported, which include argparse and model definitions"
   ]
  },
  {
   "cell_type": "code",
   "execution_count": 1,
   "metadata": {},
   "outputs": [],
   "source": [
    "from src.iter_classification import *"
   ]
  },
  {
   "cell_type": "markdown",
   "metadata": {},
   "source": [
    "- Since ipython add arguments automatically, it will conflict with argparse\n",
    "- Set the list to `parser()` help to solve the problem "
   ]
  },
  {
   "cell_type": "code",
   "execution_count": 2,
   "metadata": {},
   "outputs": [
    {
     "name": "stdout",
     "output_type": "stream",
     "text": [
      "=> Created Directory :./tmp/20210403/045329\n"
     ]
    }
   ],
   "source": [
    "sets = parser([ \"-b\", \"512\", \"-log\", \"./tmp\"])\n",
    "t_iter = TrainingIter(sets)"
   ]
  },
  {
   "cell_type": "markdown",
   "metadata": {},
   "source": [
    "Set null list `[]` when you want to use default arguments"
   ]
  },
  {
   "cell_type": "code",
   "execution_count": 3,
   "metadata": {},
   "outputs": [
    {
     "name": "stdout",
     "output_type": "stream",
     "text": [
      "=> Created Directory :./log/20210403/045332\n"
     ]
    }
   ],
   "source": [
    "sets = parser([])\n",
    "t_iter = TrainingIter(sets)"
   ]
  },
  {
   "cell_type": "markdown",
   "metadata": {},
   "source": [
    "- You'll be able to see the chage of log directory from `./tmp/20.....` to `./log/20.....`.\n",
    "- The latter is dafault configuration"
   ]
  },
  {
   "cell_type": "markdown",
   "metadata": {},
   "source": [
    "## Training from scratch\n",
    "\n",
    "- Training from scratch is followings.\n",
    "- If you want to change configurations as you like, check `iter_classification.py` and see the function `parser()`.  "
   ]
  },
  {
   "cell_type": "code",
   "execution_count": 4,
   "metadata": {},
   "outputs": [
    {
     "name": "stdout",
     "output_type": "stream",
     "text": [
      "Use device :  cuda\n"
     ]
    },
    {
     "name": "stderr",
     "output_type": "stream",
     "text": [
      "Epoch[0/5] (train = NO BACKWARD =):   0%|          | 0/118 [00:00<?, ?it/s]"
     ]
    },
    {
     "name": "stdout",
     "output_type": "stream",
     "text": [
      "-------------\n",
      "Epoch 0/5\n",
      "As the first step, Optimization will NOT be done\n"
     ]
    },
    {
     "name": "stderr",
     "output_type": "stream",
     "text": [
      "Epoch[0/5] (train = NO BACKWARD =): 100%|██████████| 118/118 [00:01<00:00, 61.90it/s]\n",
      "Epoch[0/5] (val): 100%|██████████| 20/20 [00:00<00:00, 42.94it/s]\n",
      "Epoch[1/5] (train):   0%|          | 0/118 [00:00<?, ?it/s]"
     ]
    },
    {
     "name": "stdout",
     "output_type": "stream",
     "text": [
      "Train : Loss: 138232.72 Acc: 9.26\n",
      "Valid : Loss: 23034.66 Acc: 9.63\n",
      "Log Writing ...\n",
      "Elapsed time 2.39[s] (epoch: 0)\n",
      "-------------\n",
      "Epoch 1/5\n",
      "Start optimization ...\n"
     ]
    },
    {
     "name": "stderr",
     "output_type": "stream",
     "text": [
      "Epoch[1/5] (train): 100%|██████████| 118/118 [00:03<00:00, 37.02it/s]\n",
      "Epoch[1/5] (val): 100%|██████████| 20/20 [00:00<00:00, 42.74it/s]\n",
      "Epoch[2/5] (train):   0%|          | 0/118 [00:00<?, ?it/s]"
     ]
    },
    {
     "name": "stdout",
     "output_type": "stream",
     "text": [
      "Train : Loss: 60760.07 Acc: 77.78\n",
      "Valid : Loss: 3615.14 Acc: 89.92\n",
      "Log Writing ...\n",
      "Elapsed time 3.68[s] (epoch: 1)\n",
      "-------------\n",
      "Epoch 2/5\n"
     ]
    },
    {
     "name": "stderr",
     "output_type": "stream",
     "text": [
      "Epoch[2/5] (train): 100%|██████████| 118/118 [00:03<00:00, 37.08it/s]\n",
      "Epoch[2/5] (val): 100%|██████████| 20/20 [00:00<00:00, 42.48it/s]\n",
      "Epoch[3/5] (train):   0%|          | 0/118 [00:00<?, ?it/s]"
     ]
    },
    {
     "name": "stdout",
     "output_type": "stream",
     "text": [
      "Train : Loss: 18353.26 Acc: 91.29\n",
      "Valid : Loss: 2428.31 Acc: 93.14\n",
      "Log Writing ...\n",
      "Elapsed time 3.67[s] (epoch: 2)\n",
      "-------------\n",
      "Epoch 3/5\n"
     ]
    },
    {
     "name": "stderr",
     "output_type": "stream",
     "text": [
      "Epoch[3/5] (train): 100%|██████████| 118/118 [00:03<00:00, 37.06it/s]\n",
      "Epoch[3/5] (val): 100%|██████████| 20/20 [00:00<00:00, 42.60it/s]\n",
      "Epoch[4/5] (train):   0%|          | 0/118 [00:00<?, ?it/s]"
     ]
    },
    {
     "name": "stdout",
     "output_type": "stream",
     "text": [
      "Train : Loss: 13363.43 Acc: 93.63\n",
      "Valid : Loss: 1846.10 Acc: 94.69\n",
      "Log Writing ...\n",
      "Elapsed time 3.67[s] (epoch: 3)\n",
      "-------------\n",
      "Epoch 4/5\n"
     ]
    },
    {
     "name": "stderr",
     "output_type": "stream",
     "text": [
      "Epoch[4/5] (train): 100%|██████████| 118/118 [00:03<00:00, 37.03it/s]\n",
      "Epoch[4/5] (val): 100%|██████████| 20/20 [00:00<00:00, 43.00it/s]\n",
      "Epoch[5/5] (train):   0%|          | 0/118 [00:00<?, ?it/s]"
     ]
    },
    {
     "name": "stdout",
     "output_type": "stream",
     "text": [
      "Train : Loss: 10274.28 Acc: 95.13\n",
      "Valid : Loss: 1444.47 Acc: 95.82\n",
      "Log Writing ...\n",
      "Elapsed time 3.67[s] (epoch: 4)\n",
      "-------------\n",
      "Epoch 5/5\n"
     ]
    },
    {
     "name": "stderr",
     "output_type": "stream",
     "text": [
      "Epoch[5/5] (train): 100%|██████████| 118/118 [00:03<00:00, 37.10it/s]\n",
      "Epoch[5/5] (val): 100%|██████████| 20/20 [00:00<00:00, 42.16it/s]"
     ]
    },
    {
     "name": "stdout",
     "output_type": "stream",
     "text": [
      "Train : Loss: 8135.13 Acc: 96.14\n",
      "Valid : Loss: 1171.44 Acc: 96.58\n",
      "Log Writing ...\n",
      "Elapsed time 3.68[s] (epoch: 5)\n",
      "Total elapsed : 24.26[s]\n"
     ]
    },
    {
     "name": "stderr",
     "output_type": "stream",
     "text": [
      "\n"
     ]
    }
   ],
   "source": [
    "t_iter.run() # training from scratch"
   ]
  },
  {
   "cell_type": "markdown",
   "metadata": {},
   "source": [
    "## Tensorboard\n",
    "- Tensorboard shows the learning curve, so lauch terminal and enter following command. \n",
    "```bash\n",
    "$cd ./log/ # Default log directory\n",
    "$tensorboard --logdir=./ --port 5900\n",
    "```\n",
    "- And enter [here](http://localhost:5900/) to browse"
   ]
  },
  {
   "cell_type": "markdown",
   "metadata": {},
   "source": [
    "## Restart training\n",
    "- After the training from scratch, you can restart training\n",
    "- First, set checkpoint to restart training by `TrainingIter.get_load_weight()`\n",
    "- Following is an exammple when your model is stored in `./log/20210403/045332/checkpoint_0003_.pth`"
   ]
  },
  {
   "cell_type": "code",
   "execution_count": 10,
   "metadata": {},
   "outputs": [
    {
     "name": "stdout",
     "output_type": "stream",
     "text": [
      "=> Created Directory :./log/20210403/050043\n"
     ]
    }
   ],
   "source": [
    "t_iter = TrainingIter(sets)\n",
    "_logdir = t_iter.get_load_weight(yd=\"20210403\", hms=\"045332\", epoch=3) # TODO <- set according to your environment"
   ]
  },
  {
   "cell_type": "markdown",
   "metadata": {},
   "source": [
    "Check that model is exsist or not"
   ]
  },
  {
   "cell_type": "code",
   "execution_count": 12,
   "metadata": {},
   "outputs": [
    {
     "name": "stdout",
     "output_type": "stream",
     "text": [
      "Can be load model ./log/20210403/045332/checkpoint_0003_.pth\n"
     ]
    }
   ],
   "source": [
    "import os\n",
    "if os.path.exists(_logdir):\n",
    "    print('Can be load model', _logdir)\n",
    "else:\n",
    "    print(\"Weight not Found\")"
   ]
  },
  {
   "cell_type": "markdown",
   "metadata": {},
   "source": [
    "And restart training"
   ]
  },
  {
   "cell_type": "code",
   "execution_count": 13,
   "metadata": {},
   "outputs": [
    {
     "name": "stderr",
     "output_type": "stream",
     "text": [
      "Epoch[3/5] (train = NO BACKWARD =):   0%|          | 0/118 [00:00<?, ?it/s]"
     ]
    },
    {
     "name": "stdout",
     "output_type": "stream",
     "text": [
      "=> loaded checkpoint './log/20210403/045332/checkpoint_0003_.pth' (epoch 3)\n",
      "Use device :  cuda\n",
      "Restart Option\n",
      "Skip until 3 (now:0)\n",
      "Skip until 3 (now:1)\n",
      "Skip until 3 (now:2)\n",
      "-------------\n",
      "Epoch 3/5\n",
      "As the first step, Optimization will NOT be done\n"
     ]
    },
    {
     "name": "stderr",
     "output_type": "stream",
     "text": [
      "Epoch[3/5] (train = NO BACKWARD =): 100%|██████████| 118/118 [00:01<00:00, 63.21it/s]\n",
      "Epoch[3/5] (val): 100%|██████████| 20/20 [00:00<00:00, 44.08it/s]\n",
      "Epoch[4/5] (train):   0%|          | 0/118 [00:00<?, ?it/s]"
     ]
    },
    {
     "name": "stdout",
     "output_type": "stream",
     "text": [
      "Train : Loss: 11446.38 Acc: 94.49\n",
      "Valid : Loss: 1846.10 Acc: 94.69\n",
      "Log Writing ...\n",
      "Elapsed time 2.34[s] (epoch: 3)\n",
      "-------------\n",
      "Epoch 4/5\n",
      "Start optimization ...\n"
     ]
    },
    {
     "name": "stderr",
     "output_type": "stream",
     "text": [
      "Epoch[4/5] (train): 100%|██████████| 118/118 [00:03<00:00, 36.25it/s]\n",
      "Epoch[4/5] (val): 100%|██████████| 20/20 [00:00<00:00, 42.32it/s]\n",
      "Epoch[5/5] (train):   0%|          | 0/118 [00:00<?, ?it/s]"
     ]
    },
    {
     "name": "stdout",
     "output_type": "stream",
     "text": [
      "Train : Loss: 10274.28 Acc: 95.13\n",
      "Valid : Loss: 1444.47 Acc: 95.82\n",
      "Log Writing ...\n",
      "Elapsed time 3.75[s] (epoch: 4)\n",
      "-------------\n",
      "Epoch 5/5\n"
     ]
    },
    {
     "name": "stderr",
     "output_type": "stream",
     "text": [
      "Epoch[5/5] (train): 100%|██████████| 118/118 [00:03<00:00, 35.95it/s]\n",
      "Epoch[5/5] (val): 100%|██████████| 20/20 [00:00<00:00, 42.28it/s]"
     ]
    },
    {
     "name": "stdout",
     "output_type": "stream",
     "text": [
      "Train : Loss: 8135.13 Acc: 96.14\n",
      "Valid : Loss: 1171.44 Acc: 96.58\n",
      "Log Writing ...\n",
      "Elapsed time 3.78[s] (epoch: 5)\n",
      "Total elapsed : 9.87[s]\n"
     ]
    },
    {
     "name": "stderr",
     "output_type": "stream",
     "text": [
      "\n"
     ]
    }
   ],
   "source": [
    "t_iter.restart(_logdir)"
   ]
  },
  {
   "cell_type": "code",
   "execution_count": null,
   "metadata": {},
   "outputs": [],
   "source": []
  }
 ],
 "metadata": {
  "kernelspec": {
   "display_name": "torch130",
   "language": "python",
   "name": "torch130"
  },
  "language_info": {
   "codemirror_mode": {
    "name": "ipython",
    "version": 3
   },
   "file_extension": ".py",
   "mimetype": "text/x-python",
   "name": "python",
   "nbconvert_exporter": "python",
   "pygments_lexer": "ipython3",
   "version": "3.6.13"
  }
 },
 "nbformat": 4,
 "nbformat_minor": 4
}
