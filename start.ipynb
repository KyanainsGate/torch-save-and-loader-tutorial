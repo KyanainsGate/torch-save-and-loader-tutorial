{
 "cells": [
  {
   "cell_type": "markdown",
   "metadata": {},
   "source": [
    "# Tutorial\n",
    "Before start tutorial, run `pip install -r requirements.txt` to install all dependencies.\n",
    "\n",
    "## Import necessary lib\n",
    "Only class `TrainingIter` have to be imported, which include argparse and model definitions"
   ]
  },
  {
   "cell_type": "code",
   "execution_count": 3,
   "metadata": {},
   "outputs": [],
   "source": [
    "from src.iter_classification import *\n",
    "# t_iter = TrainingIter()"
   ]
  },
  {
   "cell_type": "code",
   "execution_count": 4,
   "metadata": {},
   "outputs": [
    {
     "name": "stdout",
     "output_type": "stream",
     "text": [
      "512\n",
      "=> Created Directory :./log/20210403/005228\n"
     ]
    }
   ],
   "source": [
    "# sets = parser([\"-dp\", \"./data\", \"-t\", \"MNIST\", \"-thr\", \"5\", \"-e\", \"10\", \"-lr\", \"1e-4\", \"-b\", \"512\", \"-log\", \"./log\"])\n",
    "sets = parser([])\n",
    "t_iter = TrainingIter(sets)"
   ]
  },
  {
   "cell_type": "markdown",
   "metadata": {},
   "source": [
    "## Training from scratch\n",
    "\n",
    "- Training from scratch is followings.\n",
    "- If you want to change configurations as you like, check `iter_classification.py` and see the function `parser()`.  "
   ]
  },
  {
   "cell_type": "code",
   "execution_count": 5,
   "metadata": {},
   "outputs": [
    {
     "name": "stdout",
     "output_type": "stream",
     "text": [
      "Use device :  cuda\n"
     ]
    },
    {
     "name": "stderr",
     "output_type": "stream",
     "text": [
      "Epoch[0/5] (train = NO BACKWARD =):   0%|          | 0/118 [00:00<?, ?it/s]"
     ]
    },
    {
     "name": "stdout",
     "output_type": "stream",
     "text": [
      "-------------\n",
      "Epoch 0/5\n",
      "As the first step, Optimization will NOT be done\n"
     ]
    },
    {
     "name": "stderr",
     "output_type": "stream",
     "text": [
      "Epoch[0/5] (train = NO BACKWARD =): 100%|██████████| 118/118 [00:01<00:00, 61.54it/s]\n",
      "Epoch[0/5] (val): 100%|██████████| 20/20 [00:00<00:00, 43.44it/s]\n",
      "Epoch[1/5] (train):   0%|          | 0/118 [00:00<?, ?it/s]"
     ]
    },
    {
     "name": "stdout",
     "output_type": "stream",
     "text": [
      "Train : Loss: 138232.72 Acc: 9.26\n",
      "Valid : Loss: 23034.66 Acc: 9.63\n",
      "Log Writing ...\n",
      "Elapsed time 2.39[s] (epoch: 0)\n",
      "-------------\n",
      "Epoch 1/5\n",
      "Start optimization ...\n"
     ]
    },
    {
     "name": "stderr",
     "output_type": "stream",
     "text": [
      "Epoch[1/5] (train): 100%|██████████| 118/118 [00:03<00:00, 37.37it/s]\n",
      "Epoch[1/5] (val): 100%|██████████| 20/20 [00:00<00:00, 43.60it/s]\n",
      "Epoch[2/5] (train):   0%|          | 0/118 [00:00<?, ?it/s]"
     ]
    },
    {
     "name": "stdout",
     "output_type": "stream",
     "text": [
      "Train : Loss: 138173.81 Acc: 9.31\n",
      "Valid : Loss: 23014.50 Acc: 9.72\n",
      "Log Writing ...\n",
      "Elapsed time 3.63[s] (epoch: 1)\n",
      "-------------\n",
      "Epoch 2/5\n"
     ]
    },
    {
     "name": "stderr",
     "output_type": "stream",
     "text": [
      "Epoch[2/5] (train): 100%|██████████| 118/118 [00:03<00:00, 37.39it/s]\n",
      "Epoch[2/5] (val): 100%|██████████| 20/20 [00:00<00:00, 43.00it/s]\n",
      "Epoch[3/5] (train):   0%|          | 0/118 [00:00<?, ?it/s]"
     ]
    },
    {
     "name": "stdout",
     "output_type": "stream",
     "text": [
      "Train : Loss: 138056.14 Acc: 9.55\n",
      "Valid : Loss: 22994.90 Acc: 10.02\n",
      "Log Writing ...\n",
      "Elapsed time 3.63[s] (epoch: 2)\n",
      "-------------\n",
      "Epoch 3/5\n"
     ]
    },
    {
     "name": "stderr",
     "output_type": "stream",
     "text": [
      "Epoch[3/5] (train): 100%|██████████| 118/118 [00:03<00:00, 37.46it/s]\n",
      "Epoch[3/5] (val): 100%|██████████| 20/20 [00:00<00:00, 43.26it/s]\n",
      "Epoch[4/5] (train):   0%|          | 0/118 [00:00<?, ?it/s]"
     ]
    },
    {
     "name": "stdout",
     "output_type": "stream",
     "text": [
      "Train : Loss: 137941.66 Acc: 10.03\n",
      "Valid : Loss: 22975.79 Acc: 10.63\n",
      "Log Writing ...\n",
      "Elapsed time 3.62[s] (epoch: 3)\n",
      "-------------\n",
      "Epoch 4/5\n"
     ]
    },
    {
     "name": "stderr",
     "output_type": "stream",
     "text": [
      "Epoch[4/5] (train): 100%|██████████| 118/118 [00:03<00:00, 37.14it/s]\n",
      "Epoch[4/5] (val): 100%|██████████| 20/20 [00:00<00:00, 43.22it/s]\n",
      "Epoch[5/5] (train):   0%|          | 0/118 [00:00<?, ?it/s]"
     ]
    },
    {
     "name": "stdout",
     "output_type": "stream",
     "text": [
      "Train : Loss: 137829.73 Acc: 10.89\n",
      "Valid : Loss: 22957.03 Acc: 11.55\n",
      "Log Writing ...\n",
      "Elapsed time 3.65[s] (epoch: 4)\n",
      "-------------\n",
      "Epoch 5/5\n"
     ]
    },
    {
     "name": "stderr",
     "output_type": "stream",
     "text": [
      "Epoch[5/5] (train): 100%|██████████| 118/118 [00:03<00:00, 37.20it/s]\n",
      "Epoch[5/5] (val): 100%|██████████| 20/20 [00:00<00:00, 43.49it/s]"
     ]
    },
    {
     "name": "stdout",
     "output_type": "stream",
     "text": [
      "Train : Loss: 137719.36 Acc: 11.96\n",
      "Valid : Loss: 22938.48 Acc: 12.68\n",
      "Log Writing ...\n",
      "Elapsed time 3.64[s] (epoch: 5)\n",
      "Total elapsed : 26.14[s]\n"
     ]
    },
    {
     "name": "stderr",
     "output_type": "stream",
     "text": [
      "\n"
     ]
    }
   ],
   "source": [
    "t_iter.run() # training from scratch"
   ]
  },
  {
   "cell_type": "markdown",
   "metadata": {},
   "source": [
    "## Tensorboard\n",
    "- Tensorboard shows the learning curve, so lauch terminal and enter following command. \n",
    "```bash\n",
    "$cd ./log/ # Default log directory\n",
    "$tensorboard --logdir=./ --port 5900\n",
    "```\n",
    "- And enter [here](http://localhost:5900/) to browse"
   ]
  },
  {
   "cell_type": "markdown",
   "metadata": {},
   "source": [
    "## Restart training\n",
    "- After the training from scratch, you can restart training\n",
    "- First, set checkpoint to restart training by `TrainingIter.get_load_weight()`\n",
    "- Following is an exammple when your model is stored in `./log/20210327/111131/checkpoint_0003_.pth`"
   ]
  },
  {
   "cell_type": "code",
   "execution_count": 7,
   "metadata": {},
   "outputs": [
    {
     "name": "stdout",
     "output_type": "stream",
     "text": [
      "Can be load model ./log/20210403/005228/checkpoint_0002_.pth\n"
     ]
    }
   ],
   "source": [
    "import os\n",
    "_logdir = t_iter.get_load_weight(yd=\"20210403\", hms=\"005228\", epoch=2)\n",
    "if os.path.exists(_logdir):\n",
    "    print('Can be load model', _logdir)\n",
    "else:\n",
    "    print(\"Weight not Found\")"
   ]
  },
  {
   "cell_type": "markdown",
   "metadata": {},
   "source": [
    "And restart training"
   ]
  },
  {
   "cell_type": "code",
   "execution_count": 8,
   "metadata": {},
   "outputs": [
    {
     "name": "stderr",
     "output_type": "stream",
     "text": [
      "Epoch[2/5] (train = NO BACKWARD =):   0%|          | 0/118 [00:00<?, ?it/s]"
     ]
    },
    {
     "name": "stdout",
     "output_type": "stream",
     "text": [
      "=> loaded checkpoint './log/20210403/005228/checkpoint_0002_.pth' (epoch 2)\n",
      "Use device :  cuda\n",
      "Restart Option\n",
      "Skip until 2 (now:0)\n",
      "Skip until 2 (now:1)\n",
      "-------------\n",
      "Epoch 2/5\n",
      "As the first step, Optimization will NOT be done\n"
     ]
    },
    {
     "name": "stderr",
     "output_type": "stream",
     "text": [
      "Epoch[2/5] (train = NO BACKWARD =): 100%|██████████| 118/118 [00:01<00:00, 62.57it/s]\n",
      "Epoch[2/5] (val): 100%|██████████| 20/20 [00:00<00:00, 42.65it/s]\n",
      "Epoch[3/5] (train):   0%|          | 0/118 [00:00<?, ?it/s]"
     ]
    },
    {
     "name": "stdout",
     "output_type": "stream",
     "text": [
      "Train : Loss: 137997.39 Acc: 9.74\n",
      "Valid : Loss: 22994.90 Acc: 10.02\n",
      "Log Writing ...\n",
      "Elapsed time 2.38[s] (epoch: 2)\n",
      "-------------\n",
      "Epoch 3/5\n",
      "Start optimization ...\n"
     ]
    },
    {
     "name": "stderr",
     "output_type": "stream",
     "text": [
      "Epoch[3/5] (train): 100%|██████████| 118/118 [00:03<00:00, 36.58it/s]\n",
      "Epoch[3/5] (val): 100%|██████████| 20/20 [00:00<00:00, 41.49it/s]\n",
      "Epoch[4/5] (train):   0%|          | 0/118 [00:00<?, ?it/s]"
     ]
    },
    {
     "name": "stdout",
     "output_type": "stream",
     "text": [
      "Train : Loss: 137941.66 Acc: 10.03\n",
      "Valid : Loss: 22975.79 Acc: 10.63\n",
      "Log Writing ...\n",
      "Elapsed time 3.73[s] (epoch: 3)\n",
      "-------------\n",
      "Epoch 4/5\n"
     ]
    },
    {
     "name": "stderr",
     "output_type": "stream",
     "text": [
      "Epoch[4/5] (train): 100%|██████████| 118/118 [00:03<00:00, 36.79it/s]\n",
      "Epoch[4/5] (val): 100%|██████████| 20/20 [00:00<00:00, 41.74it/s]\n",
      "Epoch[5/5] (train):   0%|          | 0/118 [00:00<?, ?it/s]"
     ]
    },
    {
     "name": "stdout",
     "output_type": "stream",
     "text": [
      "Train : Loss: 137829.73 Acc: 10.89\n",
      "Valid : Loss: 22957.03 Acc: 11.55\n",
      "Log Writing ...\n",
      "Elapsed time 3.71[s] (epoch: 4)\n",
      "-------------\n",
      "Epoch 5/5\n"
     ]
    },
    {
     "name": "stderr",
     "output_type": "stream",
     "text": [
      "Epoch[5/5] (train): 100%|██████████| 118/118 [00:03<00:00, 36.88it/s]\n",
      "Epoch[5/5] (val): 100%|██████████| 20/20 [00:00<00:00, 43.47it/s]"
     ]
    },
    {
     "name": "stdout",
     "output_type": "stream",
     "text": [
      "Train : Loss: 137719.36 Acc: 11.96\n",
      "Valid : Loss: 22938.48 Acc: 12.68\n",
      "Log Writing ...\n",
      "Elapsed time 3.68[s] (epoch: 5)\n",
      "Total elapsed : 13.51[s]\n"
     ]
    },
    {
     "name": "stderr",
     "output_type": "stream",
     "text": [
      "\n"
     ]
    }
   ],
   "source": [
    "t_iter.restart(_logdir)"
   ]
  },
  {
   "cell_type": "code",
   "execution_count": null,
   "metadata": {},
   "outputs": [],
   "source": []
  }
 ],
 "metadata": {
  "kernelspec": {
   "display_name": "torch130",
   "language": "python",
   "name": "torch130"
  },
  "language_info": {
   "codemirror_mode": {
    "name": "ipython",
    "version": 3
   },
   "file_extension": ".py",
   "mimetype": "text/x-python",
   "name": "python",
   "nbconvert_exporter": "python",
   "pygments_lexer": "ipython3",
   "version": "3.6.13"
  }
 },
 "nbformat": 4,
 "nbformat_minor": 4
}
